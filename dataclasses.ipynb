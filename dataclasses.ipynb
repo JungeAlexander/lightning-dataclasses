{
 "cells": [
  {
   "cell_type": "markdown",
   "metadata": {},
   "source": [
    "# A lightning-fast way to generate classes holding data in Python 3.7+"
   ]
  },
  {
   "cell_type": "code",
   "execution_count": null,
   "metadata": {},
   "outputs": [],
   "source": []
  },
  {
   "cell_type": "markdown",
   "metadata": {},
   "source": [
    "## Attention!\n",
    "\n",
    "- dataclasses are only introduced in Python 3.7\n",
    "  - do not use if your code needs to run in earlier Python versions\n",
    "- there is a lot of \"magic\" happening behind the scenes\n",
    "  - may be confusing to newer Python developers"
   ]
  },
  {
   "cell_type": "markdown",
   "metadata": {},
   "source": [
    "## Resources\n",
    "\n",
    "- Raymond Hettinger - Dataclasses: The code generator to end all code generators (PyCon 2018) https://www.youtube.com/watch?v=T-TwcmT6Rcw\n",
    "- dataclasses in the Python 3.7 Standard Library documentation https://docs.python.org/3/library/dataclasses.html\n",
    "- Trey Hunner - Easier Classes: Python Classes Without All The Cruft (North Bay Python 2019) https://treyhunner.com/easier-classes/nbpy2018.html"
   ]
  }
 ],
 "metadata": {
  "kernelspec": {
   "display_name": "Python 3",
   "language": "python",
   "name": "python3"
  },
  "language_info": {
   "codemirror_mode": {
    "name": "ipython",
    "version": 3
   },
   "file_extension": ".py",
   "mimetype": "text/x-python",
   "name": "python",
   "nbconvert_exporter": "python",
   "pygments_lexer": "ipython3",
   "version": "3.7.3"
  }
 },
 "nbformat": 4,
 "nbformat_minor": 2
}
